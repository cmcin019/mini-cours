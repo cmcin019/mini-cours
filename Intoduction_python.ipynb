{
 "cells": [
  {
   "cell_type": "markdown",
   "metadata": {
    "colab_type": "text",
    "id": "JbVT11Y8CbAu"
   },
   "source": [
    "# Bienvenue"
   ]
  },
  {
   "cell_type": "markdown",
   "metadata": {
    "colab_type": "text",
    "id": "kw1B2R_WCU7X"
   },
   "source": [
    "Bienvenue à la première session de programmation en python! Cette session est conçue pour vous aider à comprendre les principes de base. Nous commencerons par les éléments fondamentaux - variables, types de données et structures de contrôle - et nous passerons progressivement à des concepts plus complexes. En cours de route, vous aurez l'occasion d'appliquer ce que vous avez appris au moyen d'exercices."
   ]
  },
  {
   "cell_type": "markdown",
   "metadata": {
    "colab_type": "text",
    "id": "YV4sYCn8EPwb"
   },
   "source": [
    "# Notebooks"
   ]
  },
  {
   "cell_type": "markdown",
   "metadata": {
    "colab_type": "text",
    "id": "2HuuwOcQEYQI"
   },
   "source": [
    "Nous utiliserons les notebooks Jupyter et Google colab comme principal moyen de pratiquer le codage. Les notebooks sont un excellent moyen de mélanger du code exécutable avec un contenu riche. Colab permet d'exécuter des notebooks sans aucune installation préalable."
   ]
  },
  {
   "cell_type": "markdown",
   "metadata": {
    "colab_type": "text",
    "id": "t0XmMkPuGGOs"
   },
   "source": [
    "Le document que vous lisez n'est pas une page web statique, mais un environnement interactif appelé notebook, qui vous permet d'écrire et d'exécuter du code. Les carnets de notes sont constitués de cellules de code, des blocs d'une ou plusieurs instructions Python. Par exemple, voici une cellule de code qui stocke le résultat d'un calcul (le nombre de secondes dans une journée) dans une variable et imprime sa valeur:"
   ]
  },
  {
   "cell_type": "code",
   "execution_count": 17,
   "metadata": {
    "colab": {
     "base_uri": "https://localhost:8080/",
     "height": 34
    },
    "colab_type": "code",
    "id": "qeGAvLq1ALJ4",
    "outputId": "da0a439d-bbbe-4bca-ae88-9681dc307b33"
   },
   "outputs": [
    {
     "data": {
      "text/plain": [
       "86400"
      ]
     },
     "execution_count": 17,
     "metadata": {},
     "output_type": "execute_result"
    }
   ],
   "source": [
    "seconds_in_a_day = 24 * 60 * 60\n",
    "seconds_in_a_day"
   ]
  },
  {
   "cell_type": "markdown",
   "metadata": {
    "colab_type": "text",
    "id": "njoPs3q1G75-"
   },
   "source": [
    "Cliquez sur le bouton \"play\" pour exécuter la cellule. Vous devriez pouvoir voir le résultat. Vous pouvez également exécuter la cellule en appuyant sur Ctrl + Entrée si vous êtes sous Windows / Linux ou sur Commande + Entrée si vous êtes sous Mac."
   ]
  },
  {
   "cell_type": "markdown",
   "metadata": {
    "colab_type": "text",
    "id": "NvdYaBgHHdbw"
   },
   "source": [
    "Les variables définies dans une cellule peuvent être utilisées ultérieurement dans d'autres cellules:"
   ]
  },
  {
   "cell_type": "code",
   "execution_count": 18,
   "metadata": {
    "colab": {
     "base_uri": "https://localhost:8080/",
     "height": 34
    },
    "colab_type": "code",
    "id": "s1kp5Zv0JBSx",
    "outputId": "5c3d203f-046d-4555-d398-36e91dbe685c"
   },
   "outputs": [
    {
     "data": {
      "text/plain": [
       "604800"
      ]
     },
     "execution_count": 18,
     "metadata": {},
     "output_type": "execute_result"
    }
   ],
   "source": [
    "seconds_in_a_week = 7 * seconds_in_a_day\n",
    "seconds_in_a_week"
   ]
  },
  {
   "cell_type": "markdown",
   "metadata": {
    "colab_type": "text",
    "id": "uALfY4q1JFQ0"
   },
   "source": [
    "Notez que l'ordre d'exécution est important. Par exemple, si nous n'exécutons pas au préalable la cellule stockant seconds_in_a_day, la cellule ci-dessus soulèvera une erreur, car elle dépend de cette variable. "
   ]
  },
  {
   "cell_type": "markdown",
   "metadata": {
    "colab_type": "text",
    "id": "qyLSwlxnJqXX"
   },
   "source": [
    "# Python"
   ]
  },
  {
   "cell_type": "markdown",
   "metadata": {
    "colab_type": "text",
    "id": "3ltwm91eJyQM"
   },
   "source": [
    "Python est l'un des langages de programmation les plus populaires pour l'apprentissage automatique, tant dans le monde universitaire que dans l'industrie. Il est donc essentiel d'apprendre ce langage pour toute personne intéressée par l'apprentissage automatique. Dans cette section, nous allons passer en revue les bases de Python."
   ]
  },
  {
   "cell_type": "markdown",
   "metadata": {
    "colab_type": "text",
    "id": "3EKvP6jiMZ9H"
   },
   "source": [
    "## Arithmetic operations"
   ]
  },
  {
   "cell_type": "markdown",
   "metadata": {
    "colab_type": "text",
    "id": "DDjs0-7YQ80h"
   },
   "source": [
    "Python permet d'utiliser les opérateurs arithmétiques habituels: + (addition), * (multiplication), / (division), ** (puissance), // (division entière)."
   ]
  },
  {
   "cell_type": "markdown",
   "metadata": {},
   "source": [
    "## Type de données"
   ]
  },
  {
   "cell_type": "markdown",
   "metadata": {},
   "source": [
    "Voici un bref aperçu des principaux types de données que vous rencontrerez et utiliserez:\n",
    "- **Integers**('int') - Il s'agit de nombres entiers sans virgule.\n",
    "- **Floating Point Numbers**('float') - Ils représentent des nombres réels et comportent une virgule décimale.\n",
    "- **Strings**('str') - Utilisé pour les données textuelles. \n",
    "- **Booleans**('bool') - Ce type représente deux valeurs : Vrai et Faux."
   ]
  },
  {
   "cell_type": "code",
   "execution_count": 19,
   "metadata": {},
   "outputs": [
    {
     "name": "stdout",
     "output_type": "stream",
     "text": [
      "<class 'int'>\n",
      "<class 'float'>\n",
      "<class 'str'>\n",
      "<class 'bool'>\n"
     ]
    }
   ],
   "source": [
    "print(type(1))\n",
    "print(type(0.))\n",
    "print(type(\"bonjour\"))\n",
    "print(type(True))"
   ]
  },
  {
   "cell_type": "markdown",
   "metadata": {},
   "source": [
    "Nous disposons également de types de données pour collecter des éléments:\n",
    "- **Lists**('list') - Collections ordonnées et mutables d'éléments.\n",
    "- **Tuples**('tuple') - Collections ordonnées comme des listes, mais immuables.\n",
    "- **Dictionaries**('dict') - Collections non ordonnées de paires clé-valeur. \n",
    "- **Sets**('set') - Collections non ordonnées d'éléments uniques."
   ]
  },
  {
   "cell_type": "code",
   "execution_count": 20,
   "metadata": {},
   "outputs": [
    {
     "name": "stdout",
     "output_type": "stream",
     "text": [
      "<class 'list'>\n",
      "<class 'tuple'>\n",
      "<class 'dict'>\n",
      "<class 'set'>\n"
     ]
    }
   ],
   "source": [
    "print(type([1,2,3]))\n",
    "print(type((1,2,3)))\n",
    "print(type({'un':1, 'deux':2, 'trois':3}))\n",
    "print(type({1,2,3}))"
   ]
  },
  {
   "cell_type": "markdown",
   "metadata": {},
   "source": [
    "## Variable"
   ]
  },
  {
   "cell_type": "markdown",
   "metadata": {},
   "source": [
    "En Python, les variables sont utilisées pour stocker des données qui peuvent être manipulées et utilisées dans vos programmes. "
   ]
  },
  {
   "cell_type": "code",
   "execution_count": 21,
   "metadata": {},
   "outputs": [
    {
     "name": "stdout",
     "output_type": "stream",
     "text": [
      "20\n",
      "4.140000000000001\n",
      "Hello World\n",
      "2\n",
      "50\n",
      "25\n"
     ]
    }
   ],
   "source": [
    "# Assigning values to variables\n",
    "a = 10        # integer\n",
    "b = 3.14      # float\n",
    "c = \"Hello\"   # string\n",
    "d = [1, 2, 3] # list\n",
    "\n",
    "# Using variables\n",
    "print(a * 2)    # Output: 20\n",
    "print(b + 1)    # Output: 4.14\n",
    "print(c + \" World\") # Output: Hello World\n",
    "print(d[1])     # Output: 2\n",
    "\n",
    "# Reassigning a variable\n",
    "a = 50\n",
    "print(a)        # Output: 50\n",
    "\n",
    "# Variables are case-sensitive\n",
    "A = 25\n",
    "print(A)        # Output: 25\n"
   ]
  },
  {
   "cell_type": "markdown",
   "metadata": {
    "colab_type": "text",
    "id": "UhcbBQUiStHG"
   },
   "source": [
    "## Lists"
   ]
  },
  {
   "cell_type": "markdown",
   "metadata": {
    "colab_type": "text",
    "id": "RkPn1IjNTCxA"
   },
   "source": [
    "Les listes sont un type de conteneur pour les séquences ordonnées d'éléments. Les listes peuvent être initialisées vides"
   ]
  },
  {
   "cell_type": "code",
   "execution_count": 22,
   "metadata": {
    "colab": {},
    "colab_type": "code",
    "id": "OrnV1ySAPtHp"
   },
   "outputs": [],
   "source": [
    "my_list = []"
   ]
  },
  {
   "cell_type": "markdown",
   "metadata": {
    "colab_type": "text",
    "id": "OwRqyYI9XnPK"
   },
   "source": [
    "ou avec certains éléments initiaux"
   ]
  },
  {
   "cell_type": "code",
   "execution_count": 23,
   "metadata": {
    "colab": {},
    "colab_type": "code",
    "id": "Uq5YTJ1JXpOX"
   },
   "outputs": [],
   "source": [
    "my_list = [1, 2, 3]"
   ]
  },
  {
   "cell_type": "markdown",
   "metadata": {
    "colab_type": "text",
    "id": "Hk2WmojJXyyz"
   },
   "source": [
    "Les listes ont une taille dynamique et des éléments peuvent y être ajoutés (appended)."
   ]
  },
  {
   "cell_type": "code",
   "execution_count": 24,
   "metadata": {
    "colab": {
     "base_uri": "https://localhost:8080/",
     "height": 34
    },
    "colab_type": "code",
    "id": "QFTNqiYiXxAh",
    "outputId": "720d3340-7df7-49b8-c920-964d2e350af5"
   },
   "outputs": [
    {
     "data": {
      "text/plain": [
       "[1, 2, 3, 4]"
      ]
     },
     "execution_count": 24,
     "metadata": {},
     "output_type": "execute_result"
    }
   ],
   "source": [
    "my_list.append(4)\n",
    "my_list"
   ]
  },
  {
   "cell_type": "markdown",
   "metadata": {
    "colab_type": "text",
    "id": "IUnJuqQ2Yhzw"
   },
   "source": [
    "Nous pouvons accéder à des éléments individuels d'une liste (l'indexation commence à partir de 0)"
   ]
  },
  {
   "cell_type": "code",
   "execution_count": 25,
   "metadata": {
    "colab": {
     "base_uri": "https://localhost:8080/",
     "height": 34
    },
    "colab_type": "code",
    "id": "pyFxyZPVYpG_",
    "outputId": "7efb0bc1-25fb-4849-8d3a-cfa62b94a175"
   },
   "outputs": [
    {
     "data": {
      "text/plain": [
       "3"
      ]
     },
     "execution_count": 25,
     "metadata": {},
     "output_type": "execute_result"
    }
   ],
   "source": [
    "my_list[2]"
   ]
  },
  {
   "cell_type": "markdown",
   "metadata": {
    "colab_type": "text",
    "id": "hPMrIDYsdgMP"
   },
   "source": [
    "Nous pouvons accéder à des \"slices\" d'une liste en utilisant `my_list[i:j]` où `i` est le début de la tranche (encore une fois, l'indexation commence à partir de 0) et `j` la fin de la tranche. Par exemple :"
   ]
  },
  {
   "cell_type": "code",
   "execution_count": 26,
   "metadata": {
    "colab": {
     "base_uri": "https://localhost:8080/",
     "height": 34
    },
    "colab_type": "code",
    "id": "Ichf9p0gd7tJ",
    "outputId": "5f4ec085-431e-4e16-aab1-8708f2c931d4"
   },
   "outputs": [
    {
     "data": {
      "text/plain": [
       "[2, 3]"
      ]
     },
     "execution_count": 26,
     "metadata": {},
     "output_type": "execute_result"
    }
   ],
   "source": [
    "my_list[1:3]"
   ]
  },
  {
   "cell_type": "markdown",
   "metadata": {
    "colab_type": "text",
    "id": "KMbzH4tzQ9rI"
   },
   "source": [
    "L'omission du deuxième indice signifie que la tranche doit être exécutée jusqu'à la fin de la liste."
   ]
  },
  {
   "cell_type": "code",
   "execution_count": 27,
   "metadata": {
    "colab": {
     "base_uri": "https://localhost:8080/",
     "height": 34
    },
    "colab_type": "code",
    "id": "O7wCthKnREKV",
    "outputId": "5a04ea59-7a54-4b09-a8ee-3cd6171e8c7a"
   },
   "outputs": [
    {
     "data": {
      "text/plain": [
       "[2, 3, 4]"
      ]
     },
     "execution_count": 27,
     "metadata": {},
     "output_type": "execute_result"
    }
   ],
   "source": [
    "my_list[1:]"
   ]
  },
  {
   "cell_type": "markdown",
   "metadata": {
    "colab_type": "text",
    "id": "C5Aeu7PUebrK"
   },
   "source": [
    "Nous pouvons vérifier si un élément se trouve dans la liste en utilisant `in`"
   ]
  },
  {
   "cell_type": "code",
   "execution_count": 28,
   "metadata": {
    "colab": {
     "base_uri": "https://localhost:8080/",
     "height": 34
    },
    "colab_type": "code",
    "id": "a_P5NCi-efvb",
    "outputId": "5012122e-f02c-4474-ec51-6ef8519e5733"
   },
   "outputs": [
    {
     "data": {
      "text/plain": [
       "False"
      ]
     },
     "execution_count": 28,
     "metadata": {},
     "output_type": "execute_result"
    }
   ],
   "source": [
    "5 in my_list"
   ]
  },
  {
   "cell_type": "markdown",
   "metadata": {
    "colab_type": "text",
    "id": "LypIsP5gkl10"
   },
   "source": [
    "La longueur d'une liste peut être obtenue à l'aide de la fonction `len`"
   ]
  },
  {
   "cell_type": "code",
   "execution_count": 29,
   "metadata": {
    "colab": {
     "base_uri": "https://localhost:8080/",
     "height": 34
    },
    "colab_type": "code",
    "id": "ac0FMsaKkrWc",
    "outputId": "0a7418d2-67a1-419c-e12b-e6ffb3b4b66d"
   },
   "outputs": [
    {
     "data": {
      "text/plain": [
       "4"
      ]
     },
     "execution_count": 29,
     "metadata": {},
     "output_type": "execute_result"
    }
   ],
   "source": [
    "len(my_list)"
   ]
  },
  {
   "cell_type": "markdown",
   "metadata": {
    "colab_type": "text",
    "id": "1c3RLStf7G2I"
   },
   "source": [
    "## Strings"
   ]
  },
  {
   "cell_type": "markdown",
   "metadata": {
    "colab_type": "text",
    "id": "Jm6hZhgz7KhI"
   },
   "source": [
    "Les chaînes de caractères sont utilisées pour stocker du texte. Elles peuvent être délimitées par des guillemets simples ou doubles."
   ]
  },
  {
   "cell_type": "code",
   "execution_count": 30,
   "metadata": {
    "colab": {},
    "colab_type": "code",
    "id": "cCma6Oj_7T8n"
   },
   "outputs": [],
   "source": [
    "string1 = \"some text\"\n",
    "string2 = 'some other text'"
   ]
  },
  {
   "cell_type": "markdown",
   "metadata": {
    "colab_type": "text",
    "id": "Irr4xuWu7Znu"
   },
   "source": [
    "Les chaînes de caractères se comportent de la même manière que les listes. En tant que telles, nous pouvons accéder à des éléments individuels exactement de la même manière"
   ]
  },
  {
   "cell_type": "code",
   "execution_count": 31,
   "metadata": {
    "colab": {
     "base_uri": "https://localhost:8080/",
     "height": 35
    },
    "colab_type": "code",
    "id": "26_POhLO7iM3",
    "outputId": "fa06d3b9-c683-4b05-bedc-36bc43f57bd4"
   },
   "outputs": [
    {
     "data": {
      "text/plain": [
       "'e'"
      ]
     },
     "execution_count": 31,
     "metadata": {},
     "output_type": "execute_result"
    }
   ],
   "source": [
    "string1[3]"
   ]
  },
  {
   "cell_type": "markdown",
   "metadata": {
    "colab_type": "text",
    "id": "oA_UD0JV7oPw"
   },
   "source": [
    "et de même pour les slices"
   ]
  },
  {
   "cell_type": "code",
   "execution_count": 32,
   "metadata": {
    "colab": {
     "base_uri": "https://localhost:8080/",
     "height": 35
    },
    "colab_type": "code",
    "id": "dcZFcLqQ7qCe",
    "outputId": "aba6c437-ade3-49da-9e6a-9383eab01fa9"
   },
   "outputs": [
    {
     "data": {
      "text/plain": [
       "'text'"
      ]
     },
     "execution_count": 32,
     "metadata": {},
     "output_type": "execute_result"
    }
   ],
   "source": [
    "string1[5:]"
   ]
  },
  {
   "cell_type": "markdown",
   "metadata": {
    "colab_type": "text",
    "id": "hOQ_CIiu76YG"
   },
   "source": [
    "La concaténation de chaînes de caractères est réalisée à l'aide de l'opérateur `+`."
   ]
  },
  {
   "cell_type": "code",
   "execution_count": 33,
   "metadata": {
    "colab": {
     "base_uri": "https://localhost:8080/",
     "height": 35
    },
    "colab_type": "code",
    "id": "mxqNMKCY79_W",
    "outputId": "e5695c9e-0703-49b3-9608-b57ca8375ba9"
   },
   "outputs": [
    {
     "data": {
      "text/plain": [
       "'some text some other text'"
      ]
     },
     "execution_count": 33,
     "metadata": {},
     "output_type": "execute_result"
    }
   ],
   "source": [
    "string1 + \" \" + string2"
   ]
  },
  {
   "cell_type": "markdown",
   "metadata": {
    "colab_type": "text",
    "id": "7Lox2GZCMdIB"
   },
   "source": [
    "## Conditionnels"
   ]
  },
  {
   "cell_type": "markdown",
   "metadata": {
    "colab_type": "text",
    "id": "-gXEAWFZfDTT"
   },
   "source": [
    "Comme leur nom l'indique, les conditionnelles sont un moyen d'exécuter du code selon qu'une condition est vraie ou fausse. Comme dans d'autres langages, Python supporte `if` et `else` mais `else if` est contracté en `elif`, comme le montre l'exemple ci-dessous. "
   ]
  },
  {
   "cell_type": "code",
   "execution_count": 34,
   "metadata": {
    "colab": {
     "base_uri": "https://localhost:8080/",
     "height": 34
    },
    "colab_type": "code",
    "id": "xC_DMZjofoYZ",
    "outputId": "e86016aa-0ebd-4e0f-e559-326f4b2ce644"
   },
   "outputs": [
    {
     "name": "stdout",
     "output_type": "stream",
     "text": [
      "positive\n"
     ]
    }
   ],
   "source": [
    "my_variable = 5\n",
    "if my_variable < 0:\n",
    "  print(\"negative\")\n",
    "elif my_variable == 0:\n",
    "  print(\"null\")\n",
    "else: # my_variable > 0\n",
    "  print(\"positive\")"
   ]
  },
  {
   "cell_type": "markdown",
   "metadata": {
    "colab_type": "text",
    "id": "Ag0SUokSf9jl"
   },
   "source": [
    "Ici, `<` et `>` sont les opérateurs stricts `moins' et `plus grand que', tandis que `==` est l'opérateur d'égalité (à ne pas confondre avec `=`, l'opérateur de l'affectation des variables). Les opérateurs `<=` et `>=` peuvent être utilisés pour des comparaisons inférieures ( respectivement supérieures) ou égales."
   ]
  },
  {
   "cell_type": "markdown",
   "metadata": {
    "colab_type": "text",
    "id": "qTkQ2F_jy8wz"
   },
   "source": [
    "Contrairement à d'autres langages, les blocs de code sont délimités par une indentation. Ici, nous utilisons une indentation de 2 espaces, mais de nombreux programmeurs utilisent également une indentation de 4 espaces. N'importe laquelle convient, à condition d'être cohérent dans tout le code."
   ]
  },
  {
   "cell_type": "markdown",
   "metadata": {
    "colab_type": "text",
    "id": "clWaFCzBMfkv"
   },
   "source": [
    "## Boucles"
   ]
  },
  {
   "cell_type": "markdown",
   "metadata": {
    "colab_type": "text",
    "id": "_A5doqhTivWe"
   },
   "source": [
    "Les boucles sont un moyen d'exécuter un bloc de code plusieurs fois. Il existe deux types principaux de boucles : les boucles while et les boucles for."
   ]
  },
  {
   "cell_type": "markdown",
   "metadata": {
    "colab_type": "text",
    "id": "YN8lwTxQkGEa"
   },
   "source": [
    "Boucles while"
   ]
  },
  {
   "cell_type": "code",
   "execution_count": 35,
   "metadata": {
    "colab": {
     "base_uri": "https://localhost:8080/",
     "height": 85
    },
    "colab_type": "code",
    "id": "7-QXGqgOjsr_",
    "outputId": "4a9bdffc-46ba-47ba-e60b-3ea01dcd2d65"
   },
   "outputs": [
    {
     "name": "stdout",
     "output_type": "stream",
     "text": [
      "1\n",
      "2\n",
      "3\n",
      "4\n"
     ]
    }
   ],
   "source": [
    "i = 0\n",
    "while i < len(my_list):\n",
    "  print(my_list[i])\n",
    "  i += 1 # equivalent to i = i + 1"
   ]
  },
  {
   "cell_type": "markdown",
   "metadata": {
    "colab_type": "text",
    "id": "8mEI_ocfkSvZ"
   },
   "source": [
    "Boubles for"
   ]
  },
  {
   "cell_type": "code",
   "execution_count": 36,
   "metadata": {
    "colab": {
     "base_uri": "https://localhost:8080/",
     "height": 85
    },
    "colab_type": "code",
    "id": "2QObx5mckMcI",
    "outputId": "32c31a79-ef89-4e80-9e76-47540f839cb6"
   },
   "outputs": [
    {
     "name": "stdout",
     "output_type": "stream",
     "text": [
      "1\n",
      "2\n",
      "3\n",
      "4\n"
     ]
    }
   ],
   "source": [
    "for i in range(len(my_list)):\n",
    "  print(my_list[i])"
   ]
  },
  {
   "cell_type": "markdown",
   "metadata": {
    "colab_type": "text",
    "id": "XO6qqppikZvm"
   },
   "source": [
    "Si l'objectif est simplement d'itérer sur une liste, nous pouvons le faire directement comme suit"
   ]
  },
  {
   "cell_type": "code",
   "execution_count": 37,
   "metadata": {
    "colab": {
     "base_uri": "https://localhost:8080/",
     "height": 85
    },
    "colab_type": "code",
    "id": "PjFKzN6zkeJ7",
    "outputId": "41f3a553-b629-4e52-ad98-7bbe55e0cced"
   },
   "outputs": [
    {
     "name": "stdout",
     "output_type": "stream",
     "text": [
      "1\n",
      "2\n",
      "3\n",
      "4\n"
     ]
    }
   ],
   "source": [
    "for element in my_list:\n",
    "  print(element)"
   ]
  },
  {
   "cell_type": "markdown",
   "metadata": {
    "colab_type": "text",
    "id": "Cck4zwYrex02"
   },
   "source": [
    "## Fonctions"
   ]
  },
  {
   "cell_type": "markdown",
   "metadata": {
    "colab_type": "text",
    "id": "n1PbIf_ohxFO"
   },
   "source": [
    "Pour améliorer la lisibilité du code, il est commun de séparer le code en différents blocs, responsables de l'exécution d'actions précises : les fonctions. Une fonction prend des entrées et les traite pour renvoyer des sorties."
   ]
  },
  {
   "cell_type": "code",
   "execution_count": 38,
   "metadata": {
    "colab": {
     "base_uri": "https://localhost:8080/",
     "height": 34
    },
    "colab_type": "code",
    "id": "cImA09gOhRmx",
    "outputId": "85834282-56d6-4c17-f188-433f46c50d21"
   },
   "outputs": [
    {
     "data": {
      "text/plain": [
       "36"
      ]
     },
     "execution_count": 38,
     "metadata": {},
     "output_type": "execute_result"
    }
   ],
   "source": [
    "def square(x):\n",
    "  return x ** 2\n",
    "\n",
    "def multiply(a, b):\n",
    "  return a * b\n",
    "\n",
    "# Functions can be composed.\n",
    "square(multiply(3, 2))"
   ]
  },
  {
   "cell_type": "markdown",
   "metadata": {
    "colab_type": "text",
    "id": "75-5SOk9iYSt"
   },
   "source": [
    "Pour améliorer la lisibilité du code, il est parfois utile de nommer explicitement les arguments"
   ]
  },
  {
   "cell_type": "code",
   "execution_count": 39,
   "metadata": {
    "colab": {
     "base_uri": "https://localhost:8080/",
     "height": 34
    },
    "colab_type": "code",
    "id": "wkIUuZHhidI0",
    "outputId": "acb68380-db78-491c-ce27-8a4664f78ce5"
   },
   "outputs": [
    {
     "data": {
      "text/plain": [
       "36"
      ]
     },
     "execution_count": 39,
     "metadata": {},
     "output_type": "execute_result"
    }
   ],
   "source": [
    "square(multiply(a=3, b=2))"
   ]
  },
  {
   "cell_type": "markdown",
   "metadata": {
    "colab_type": "text",
    "id": "LkpwbQEVMys2"
   },
   "source": [
    "## Exercices"
   ]
  },
  {
   "cell_type": "markdown",
   "metadata": {
    "colab_type": "text",
    "id": "ASpVhol9ZXI0"
   },
   "source": [
    "**En utilisant un conditionnel, écrivez la fonction [relu](https://en.wikipedia.org/wiki/Rectifier_(neural_networks)) définie comme suit\n",
    "\n",
    "$\\text{relu}(x) = \\left\\{\n",
    "   \\begin{array}{rl}\n",
    "     x, & \\text{si }  x \\ge 0 \\\\\n",
    "     0, & \\text{autrement }.\n",
    "   \\end{array}\\right.$"
   ]
  },
  {
   "cell_type": "code",
   "execution_count": 40,
   "metadata": {
    "colab": {},
    "colab_type": "code",
    "id": "jlgyu65SaUvr"
   },
   "outputs": [],
   "source": [
    "def relu(x):\n",
    "  # Write your function here\n",
    "  return\n",
    "\n",
    "relu(-3)"
   ]
  },
  {
   "cell_type": "markdown",
   "metadata": {
    "colab_type": "text",
    "id": "Y3so0ceoakIw"
   },
   "source": [
    "**Exercice 2.** En utilisant une boucle foor, écrivez une fonction qui calcule la [norme euclidienne](https://en.wikipedia.org/wiki/Norm_(mathematics)#Euclidean_norm) d'un vecteur, représenté sous la forme d'une liste."
   ]
  },
  {
   "cell_type": "code",
   "execution_count": 41,
   "metadata": {
    "colab": {
     "base_uri": "https://localhost:8080/",
     "height": 34
    },
    "colab_type": "code",
    "id": "-IH-BD41bI1u",
    "outputId": "f45bf668-d55b-494d-ecd7-2f421cbacf15"
   },
   "outputs": [],
   "source": [
    "def euclidean_norm(vector):\n",
    "  # Write your function here\n",
    "  return\n",
    "\n",
    "import numpy as np\n",
    "my_vector = [0.5, -1.2, 3.3, 4.5]\n",
    "# The result should be roughly 5.729746940310715\n",
    "euclidean_norm(my_vector)"
   ]
  },
  {
   "cell_type": "markdown",
   "metadata": {
    "colab_type": "text",
    "id": "SEXIh_e9cW3S"
   },
   "source": [
    "**Exercice 3.** En utilisant une boucle for et une conditionnelle, écrivez une fonction qui renvoie la valeur maximale d'un vecteur (list)."
   ]
  },
  {
   "cell_type": "code",
   "execution_count": 42,
   "metadata": {
    "colab": {},
    "colab_type": "code",
    "id": "zd9ntMq0cb2e"
   },
   "outputs": [],
   "source": [
    "def vector_maximum(vector):\n",
    "  # Write your function here\n",
    "  return"
   ]
  },
  {
   "cell_type": "markdown",
   "metadata": {
    "colab_type": "text",
    "id": "jDxjvtEEM1vg"
   },
   "source": [
    "## Aller plus loin"
   ]
  },
  {
   "cell_type": "markdown",
   "metadata": {
    "colab_type": "text",
    "id": "wRkmvzf-PdEp"
   },
   "source": [
    "Il est évident qu'il est impossible de couvrir toutes les caractéristiques de la langue dans cette brève introduction. Pour aller plus loin, nous vous recommandons les ressources suivantes :"
   ]
  },
  {
   "cell_type": "markdown",
   "metadata": {
    "colab_type": "text",
    "id": "n8nbPoWclRlH"
   },
   "source": [
    "* Liste des [tutoriels](https://wiki.python.org/moin/BeginnersGuide/Programmers) Python\n",
    "* [Cours](https://www.youtube.com/watch?v=rfscVS0vtbw) de quatre heures sur Youtube\n"
   ]
  },
  {
   "cell_type": "markdown",
   "metadata": {},
   "source": [
    "## À noter"
   ]
  },
  {
   "cell_type": "markdown",
   "metadata": {},
   "source": [
    "Ce carnet est inspiré et s'inspire du référentiel suivant \n",
    "https://github.com/data-psl/lectures2020/blob/master/notebooks/01_python_basics.ipynb."
   ]
  }
 ],
 "metadata": {
  "colab": {
   "name": "Python basics",
   "provenance": []
  },
  "kernelspec": {
   "display_name": "Python 3",
   "language": "python",
   "name": "python3"
  },
  "language_info": {
   "codemirror_mode": {
    "name": "ipython",
    "version": 3
   },
   "file_extension": ".py",
   "mimetype": "text/x-python",
   "name": "python",
   "nbconvert_exporter": "python",
   "pygments_lexer": "ipython3",
   "version": "3.10.12"
  }
 },
 "nbformat": 4,
 "nbformat_minor": 1
}
